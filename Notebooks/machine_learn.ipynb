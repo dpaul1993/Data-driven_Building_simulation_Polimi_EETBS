{
 "cells": [
  {
   "cell_type": "code",
   "execution_count": 18,
   "metadata": {
    "collapsed": true,
    "deletable": true,
    "editable": true
   },
   "outputs": [],
   "source": [
    "%run functions.ipynb"
   ]
  },
  {
   "cell_type": "code",
   "execution_count": 19,
   "metadata": {
    "collapsed": false,
    "deletable": true,
    "editable": true
   },
   "outputs": [],
   "source": [
    "class learn():\n",
    "    \n",
    "    pred_col = '_predicted'\n",
    "    def __init__(self,features,target,cv):\n",
    "        \n",
    "        self.features = features\n",
    "        self.target = target\n",
    "        \n",
    "        df = features.join(target)\n",
    "\n",
    "        self.cv = cv\n",
    "        self.pred_col\n",
    "        \n",
    "        from sklearn.model_selection import train_test_split\n",
    "        self.X_train, self.X_test, self.y_train, self.y_test = train_test_split(self.features, self.target, test_size=0.2, random_state=41234)\n",
    "        \n",
    "        df_norm = normalize(df)\n",
    "        self.features_norm = df_norm[features.columns]\n",
    "        self.target_norm = df_norm[target.columns]\n",
    "        self.X_train_norm, self.X_test_norm, self.y_train_norm, self.y_test_norm = train_test_split(self.features_norm, self.target_norm, test_size=0.2, random_state=41234)\n",
    "\n",
    "        \n",
    "    \n",
    "    def linear(self,cross_validate=True):\n",
    "        \n",
    "        from sklearn import linear_model\n",
    "        reg = linear_model.LinearRegression()\n",
    "        \n",
    "\n",
    "        if cross_validate == True:\n",
    "            predictions_frame = cross_val_regression(reg,self.features,self.target,self.pred_col,self.cv)\n",
    "            \n",
    "        else:\n",
    "            predictions_frame = train_test_regression(reg,self.X_train,self.X_test,self.y_train,self.y_test,self.pred_col)\n",
    "            \n",
    "        coef_v, mbe, r2 = get_metrics(predictions_frame)\n",
    "            \n",
    "        return predictions_frame, coef_v , mbe, r2\n",
    "    \n",
    "    def rdf(self,cross_validate=True):\n",
    "        \n",
    "        from sklearn.ensemble import RandomForestRegressor\n",
    "        reg = RandomForestRegressor()\n",
    "        \n",
    "        if cross_validate == True:\n",
    "            predictions_frame = cross_val_regression(reg,self.features,self.target,self.pred_col,self.cv)\n",
    "            \n",
    "        else:\n",
    "            predictions_frame = train_test_regression(reg,self.X_train,self.X_test,self.y_train,self.y_test,self.pred_col)\n",
    "       \n",
    "        coef_v, mbe, r2 = get_metrics(predictions_frame)\n",
    "            \n",
    "        return predictions_frame, coef_v , mbe, r2\n",
    "    \n",
    "    def svm(self,cross_validate=True):\n",
    "        \n",
    "        from sklearn.svm import SVR\n",
    "        reg = SVR(kernel='rbf')\n",
    "        \n",
    "        if cross_validate == True:\n",
    "            predictions_frame = cross_val_regression(reg,self.features_norm,self.target_norm,self.pred_col,self.cv)\n",
    "            \n",
    "        else:\n",
    "            predictions_frame = train_test_regression(reg,self.X_train_norm,self.X_test_norm,self.y_train_norm,self.y_test_norm,self.pred_col)\n",
    "            \n",
    "        #denormalize the dataframe\n",
    "        predictions_frame_denorm = (predictions_frame*(self.target.max()[0]-self.target.min()[0]))+self.target.min()[0]\n",
    "       \n",
    "        coef_v, mbe, r2 = get_metrics(predictions_frame_denorm)\n",
    "            \n",
    "        return predictions_frame_denorm, coef_v , mbe, r2\n",
    "            \n",
    "\n",
    "        "
   ]
  },
  {
   "cell_type": "code",
   "execution_count": null,
   "metadata": {
    "collapsed": true,
    "deletable": true,
    "editable": true
   },
   "outputs": [],
   "source": [
    "def cross_val_regression(reg,features,target,pred_col,cv):\n",
    "    \n",
    "    from sklearn.model_selection import cross_val_predict\n",
    "    \n",
    "    predict = cross_val_predict(reg, features, target,cv=cv)\n",
    "    predictions = pd.Series(predict.ravel(),index=target.index).rename(target.columns[0]+pred_col)\n",
    "    predictions_frame = pd.DataFrame(predictions).join(target).dropna()\n",
    "    \n",
    "    return predictions_frame\n",
    "\n",
    "def train_test_regression(reg, X_train, X_test, y_train, y_test,pred_col):\n",
    "    \n",
    "    reg.fit(X_train, y_train)\n",
    "    predict = reg.predict(X_test)\n",
    "    predictions = pd.Series(predict.ravel(),index=y_test.index).rename(y_test.columns[0]+pred_col)\n",
    "    predictions_frame = pd.DataFrame(predictions).join(y_test).dropna()\n",
    "    \n",
    "    return predictions_frame\n",
    "        \n",
    "    \n",
    "    "
   ]
  },
  {
   "cell_type": "code",
   "execution_count": null,
   "metadata": {
    "collapsed": true,
    "deletable": true,
    "editable": true
   },
   "outputs": [],
   "source": []
  }
 ],
 "metadata": {
  "anaconda-cloud": {},
  "kernelspec": {
   "display_name": "Python 2",
   "language": "python",
   "name": "python2"
  },
  "language_info": {
   "codemirror_mode": {
    "name": "ipython",
    "version": 2
   },
   "file_extension": ".py",
   "mimetype": "text/x-python",
   "name": "python",
   "nbconvert_exporter": "python",
   "pygments_lexer": "ipython2",
   "version": "2.7.13"
  }
 },
 "nbformat": 4,
 "nbformat_minor": 1
}
